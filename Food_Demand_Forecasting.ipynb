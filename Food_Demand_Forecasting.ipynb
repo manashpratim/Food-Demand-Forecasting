{
  "nbformat": 4,
  "nbformat_minor": 0,
  "metadata": {
    "colab": {
      "name": "Food Demand Forecasting.ipynb",
      "version": "0.3.2",
      "provenance": [],
      "collapsed_sections": [],
      "include_colab_link": true
    },
    "kernelspec": {
      "name": "python3",
      "display_name": "Python 3"
    }
  },
  "cells": [
    {
      "cell_type": "markdown",
      "metadata": {
        "id": "view-in-github",
        "colab_type": "text"
      },
      "source": [
        "<a href=\"https://colab.research.google.com/github/manashpratim/Food-Demand-Forecasting/blob/master/Food_Demand_Forecasting.ipynb\" target=\"_parent\"><img src=\"https://colab.research.google.com/assets/colab-badge.svg\" alt=\"Open In Colab\"/></a>"
      ]
    },
    {
      "cell_type": "markdown",
      "metadata": {
        "id": "M8noGGugaZQn",
        "colab_type": "text"
      },
      "source": [
        "#**Problem Statement**\n",
        "\"The client is a meal delivery company which operates in multiple cities. They have various fulfillment centers in these cities for dispatching meal orders to their customers. The client wants  help for these centers with demand forecasting for upcoming weeks so that these centers will plan the stock of raw materials accordingly.\n",
        "\n",
        "The replenishment of majority of raw materials is done on weekly basis and since the raw material is perishable, the procurement planning is of utmost importance. Secondly, staffing of the centers is also one area wherein accurate demand forecasts are really helpful. Given the following information, the task is to predict the demand for the next 10 weeks (Weeks: 146-155) for the center-meal combinations in the test set:  \n",
        "\n",
        "Historical data of demand for a product-center combination (Weeks: 1 to 145)\n",
        "Product(Meal) features such as category, sub-category, current price and discount\n",
        "Information for fulfillment center like center area, city information etc.\""
      ]
    },
    {
      "cell_type": "code",
      "metadata": {
        "id": "f0yQpC-7UBIJ",
        "colab_type": "code",
        "colab": {
          "base_uri": "https://localhost:8080/",
          "height": 391
        },
        "outputId": "300fb216-fed2-48e2-9f3c-f2966450bf33"
      },
      "source": [
        "#Downloading the datasets\n",
        "!wget --no-check-certificate \\\n",
        "      \"https://datahack-prod.s3.amazonaws.com/train_file/train_GzS76OK.zip\"\\\n",
        "      -O \"/tmp/train.zip\"\n",
        "\n",
        "!wget --no-check-certificate \\\n",
        "      \"https://datahack-prod.s3.amazonaws.com/test_file/test_QoiMO9B.csv\"\\\n",
        "      -O \"/tmp/test.csv\""
      ],
      "execution_count": 1,
      "outputs": [
        {
          "output_type": "stream",
          "text": [
            "--2019-07-14 02:33:46--  https://datahack-prod.s3.amazonaws.com/train_file/train_GzS76OK.zip\n",
            "Resolving datahack-prod.s3.amazonaws.com (datahack-prod.s3.amazonaws.com)... 52.219.62.48\n",
            "Connecting to datahack-prod.s3.amazonaws.com (datahack-prod.s3.amazonaws.com)|52.219.62.48|:443... connected.\n",
            "HTTP request sent, awaiting response... 200 OK\n",
            "Length: 5487936 (5.2M) [application/x-zip-compressed]\n",
            "Saving to: ‘/tmp/train.zip’\n",
            "\n",
            "/tmp/train.zip      100%[===================>]   5.23M  2.64MB/s    in 2.0s    \n",
            "\n",
            "2019-07-14 02:33:49 (2.64 MB/s) - ‘/tmp/train.zip’ saved [5487936/5487936]\n",
            "\n",
            "--2019-07-14 02:33:51--  https://datahack-prod.s3.amazonaws.com/test_file/test_QoiMO9B.csv\n",
            "Resolving datahack-prod.s3.amazonaws.com (datahack-prod.s3.amazonaws.com)... 52.219.62.72\n",
            "Connecting to datahack-prod.s3.amazonaws.com (datahack-prod.s3.amazonaws.com)|52.219.62.72|:443... connected.\n",
            "HTTP request sent, awaiting response... 200 OK\n",
            "Length: 1239576 (1.2M) [application/vnd.ms-excel]\n",
            "Saving to: ‘/tmp/test.csv’\n",
            "\n",
            "/tmp/test.csv       100%[===================>]   1.18M   994KB/s    in 1.2s    \n",
            "\n",
            "2019-07-14 02:33:54 (994 KB/s) - ‘/tmp/test.csv’ saved [1239576/1239576]\n",
            "\n"
          ],
          "name": "stdout"
        }
      ]
    },
    {
      "cell_type": "code",
      "metadata": {
        "id": "euhCBeAWVBUU",
        "colab_type": "code",
        "colab": {}
      },
      "source": [
        "# Unzipping the downloaded dataset\n",
        "import os\n",
        "import zipfile\n",
        "\n",
        "local_zip='/tmp/train.zip'\n",
        "zip_ref=zipfile.ZipFile(local_zip,'r')\n",
        "zip_ref.extractall('/tmp/train')\n",
        "zip_ref.close()"
      ],
      "execution_count": 0,
      "outputs": []
    },
    {
      "cell_type": "code",
      "metadata": {
        "id": "V0AmBwhJVMUP",
        "colab_type": "code",
        "colab": {}
      },
      "source": [
        "import numpy as np\n",
        "import pandas as pd\n",
        "df1=pd.read_csv('/tmp/train/train.csv')\n",
        "df2=pd.read_csv('/tmp/train/fulfilment_center_info.csv')\n",
        "df3=pd.read_csv('/tmp/train/meal_info.csv')\n",
        "df4=pd.read_csv('/tmp/test.csv')"
      ],
      "execution_count": 0,
      "outputs": []
    },
    {
      "cell_type": "code",
      "metadata": {
        "id": "PwNERCmLWKyw",
        "colab_type": "code",
        "colab": {}
      },
      "source": [
        "#creating the training dataframe by joining the other dataframes\n",
        "train=pd.merge(df1, df2, on='center_id')\n",
        "train=pd.merge(train, df3, on='meal_id')"
      ],
      "execution_count": 0,
      "outputs": []
    },
    {
      "cell_type": "code",
      "metadata": {
        "id": "QGX46hJ-Xlja",
        "colab_type": "code",
        "colab": {}
      },
      "source": [
        "#same operation for the test dataframe\n",
        "test=pd.merge(df4, df2, on='center_id')\n",
        "test=pd.merge(test, df3, on='meal_id')"
      ],
      "execution_count": 0,
      "outputs": []
    },
    {
      "cell_type": "code",
      "metadata": {
        "id": "MvclTDvEWakU",
        "colab_type": "code",
        "colab": {
          "base_uri": "https://localhost:8080/",
          "height": 162
        },
        "outputId": "943f99c8-3567-4d12-92b4-3694b50e9f3e"
      },
      "source": [
        "train.head(3)"
      ],
      "execution_count": 31,
      "outputs": [
        {
          "output_type": "execute_result",
          "data": {
            "text/html": [
              "<div>\n",
              "<style scoped>\n",
              "    .dataframe tbody tr th:only-of-type {\n",
              "        vertical-align: middle;\n",
              "    }\n",
              "\n",
              "    .dataframe tbody tr th {\n",
              "        vertical-align: top;\n",
              "    }\n",
              "\n",
              "    .dataframe thead th {\n",
              "        text-align: right;\n",
              "    }\n",
              "</style>\n",
              "<table border=\"1\" class=\"dataframe\">\n",
              "  <thead>\n",
              "    <tr style=\"text-align: right;\">\n",
              "      <th></th>\n",
              "      <th>id</th>\n",
              "      <th>week</th>\n",
              "      <th>center_id</th>\n",
              "      <th>meal_id</th>\n",
              "      <th>checkout_price</th>\n",
              "      <th>base_price</th>\n",
              "      <th>emailer_for_promotion</th>\n",
              "      <th>homepage_featured</th>\n",
              "      <th>num_orders</th>\n",
              "      <th>city_code</th>\n",
              "      <th>region_code</th>\n",
              "      <th>center_type</th>\n",
              "      <th>op_area</th>\n",
              "      <th>category</th>\n",
              "      <th>cuisine</th>\n",
              "    </tr>\n",
              "  </thead>\n",
              "  <tbody>\n",
              "    <tr>\n",
              "      <th>0</th>\n",
              "      <td>1379560</td>\n",
              "      <td>1</td>\n",
              "      <td>55</td>\n",
              "      <td>1885</td>\n",
              "      <td>136.83</td>\n",
              "      <td>152.29</td>\n",
              "      <td>0</td>\n",
              "      <td>0</td>\n",
              "      <td>177</td>\n",
              "      <td>647</td>\n",
              "      <td>56</td>\n",
              "      <td>TYPE_C</td>\n",
              "      <td>2.0</td>\n",
              "      <td>Beverages</td>\n",
              "      <td>Thai</td>\n",
              "    </tr>\n",
              "    <tr>\n",
              "      <th>1</th>\n",
              "      <td>1018704</td>\n",
              "      <td>2</td>\n",
              "      <td>55</td>\n",
              "      <td>1885</td>\n",
              "      <td>135.83</td>\n",
              "      <td>152.29</td>\n",
              "      <td>0</td>\n",
              "      <td>0</td>\n",
              "      <td>323</td>\n",
              "      <td>647</td>\n",
              "      <td>56</td>\n",
              "      <td>TYPE_C</td>\n",
              "      <td>2.0</td>\n",
              "      <td>Beverages</td>\n",
              "      <td>Thai</td>\n",
              "    </tr>\n",
              "    <tr>\n",
              "      <th>2</th>\n",
              "      <td>1196273</td>\n",
              "      <td>3</td>\n",
              "      <td>55</td>\n",
              "      <td>1885</td>\n",
              "      <td>132.92</td>\n",
              "      <td>133.92</td>\n",
              "      <td>0</td>\n",
              "      <td>0</td>\n",
              "      <td>96</td>\n",
              "      <td>647</td>\n",
              "      <td>56</td>\n",
              "      <td>TYPE_C</td>\n",
              "      <td>2.0</td>\n",
              "      <td>Beverages</td>\n",
              "      <td>Thai</td>\n",
              "    </tr>\n",
              "  </tbody>\n",
              "</table>\n",
              "</div>"
            ],
            "text/plain": [
              "        id  week  center_id  meal_id  ...  center_type  op_area   category  cuisine\n",
              "0  1379560     1         55     1885  ...       TYPE_C      2.0  Beverages     Thai\n",
              "1  1018704     2         55     1885  ...       TYPE_C      2.0  Beverages     Thai\n",
              "2  1196273     3         55     1885  ...       TYPE_C      2.0  Beverages     Thai\n",
              "\n",
              "[3 rows x 15 columns]"
            ]
          },
          "metadata": {
            "tags": []
          },
          "execution_count": 31
        }
      ]
    },
    {
      "cell_type": "code",
      "metadata": {
        "id": "t7J1iB46XexM",
        "colab_type": "code",
        "colab": {
          "base_uri": "https://localhost:8080/",
          "height": 131
        },
        "outputId": "ad243b7f-240b-4f8d-f134-997155b0030c"
      },
      "source": [
        "test.head(2)"
      ],
      "execution_count": 32,
      "outputs": [
        {
          "output_type": "execute_result",
          "data": {
            "text/html": [
              "<div>\n",
              "<style scoped>\n",
              "    .dataframe tbody tr th:only-of-type {\n",
              "        vertical-align: middle;\n",
              "    }\n",
              "\n",
              "    .dataframe tbody tr th {\n",
              "        vertical-align: top;\n",
              "    }\n",
              "\n",
              "    .dataframe thead th {\n",
              "        text-align: right;\n",
              "    }\n",
              "</style>\n",
              "<table border=\"1\" class=\"dataframe\">\n",
              "  <thead>\n",
              "    <tr style=\"text-align: right;\">\n",
              "      <th></th>\n",
              "      <th>id</th>\n",
              "      <th>week</th>\n",
              "      <th>center_id</th>\n",
              "      <th>meal_id</th>\n",
              "      <th>checkout_price</th>\n",
              "      <th>base_price</th>\n",
              "      <th>emailer_for_promotion</th>\n",
              "      <th>homepage_featured</th>\n",
              "      <th>city_code</th>\n",
              "      <th>region_code</th>\n",
              "      <th>center_type</th>\n",
              "      <th>op_area</th>\n",
              "      <th>category</th>\n",
              "      <th>cuisine</th>\n",
              "    </tr>\n",
              "  </thead>\n",
              "  <tbody>\n",
              "    <tr>\n",
              "      <th>0</th>\n",
              "      <td>1028232</td>\n",
              "      <td>146</td>\n",
              "      <td>55</td>\n",
              "      <td>1885</td>\n",
              "      <td>158.11</td>\n",
              "      <td>159.11</td>\n",
              "      <td>0</td>\n",
              "      <td>0</td>\n",
              "      <td>647</td>\n",
              "      <td>56</td>\n",
              "      <td>TYPE_C</td>\n",
              "      <td>2.0</td>\n",
              "      <td>Beverages</td>\n",
              "      <td>Thai</td>\n",
              "    </tr>\n",
              "    <tr>\n",
              "      <th>1</th>\n",
              "      <td>1262649</td>\n",
              "      <td>147</td>\n",
              "      <td>55</td>\n",
              "      <td>1885</td>\n",
              "      <td>159.11</td>\n",
              "      <td>159.11</td>\n",
              "      <td>0</td>\n",
              "      <td>0</td>\n",
              "      <td>647</td>\n",
              "      <td>56</td>\n",
              "      <td>TYPE_C</td>\n",
              "      <td>2.0</td>\n",
              "      <td>Beverages</td>\n",
              "      <td>Thai</td>\n",
              "    </tr>\n",
              "  </tbody>\n",
              "</table>\n",
              "</div>"
            ],
            "text/plain": [
              "        id  week  center_id  meal_id  ...  center_type  op_area   category  cuisine\n",
              "0  1028232   146         55     1885  ...       TYPE_C      2.0  Beverages     Thai\n",
              "1  1262649   147         55     1885  ...       TYPE_C      2.0  Beverages     Thai\n",
              "\n",
              "[2 rows x 14 columns]"
            ]
          },
          "metadata": {
            "tags": []
          },
          "execution_count": 32
        }
      ]
    },
    {
      "cell_type": "code",
      "metadata": {
        "id": "nGTmtHsFXtdr",
        "colab_type": "code",
        "colab": {
          "base_uri": "https://localhost:8080/",
          "height": 289
        },
        "outputId": "df6ff655-0f26-450b-d6dc-eefd4fa2959c"
      },
      "source": [
        "# Checking Null values in Train Set\n",
        "train.isnull().sum()"
      ],
      "execution_count": 35,
      "outputs": [
        {
          "output_type": "execute_result",
          "data": {
            "text/plain": [
              "id                       0\n",
              "week                     0\n",
              "center_id                0\n",
              "meal_id                  0\n",
              "checkout_price           0\n",
              "base_price               0\n",
              "emailer_for_promotion    0\n",
              "homepage_featured        0\n",
              "num_orders               0\n",
              "city_code                0\n",
              "region_code              0\n",
              "center_type              0\n",
              "op_area                  0\n",
              "category                 0\n",
              "cuisine                  0\n",
              "dtype: int64"
            ]
          },
          "metadata": {
            "tags": []
          },
          "execution_count": 35
        }
      ]
    },
    {
      "cell_type": "code",
      "metadata": {
        "id": "ECzX7dHnbRF9",
        "colab_type": "code",
        "colab": {
          "base_uri": "https://localhost:8080/",
          "height": 272
        },
        "outputId": "1e7d1bd6-12f4-44ef-e085-8c6dc11212a0"
      },
      "source": [
        "# Checking Null values in Test Set\n",
        "test.isnull().sum()"
      ],
      "execution_count": 36,
      "outputs": [
        {
          "output_type": "execute_result",
          "data": {
            "text/plain": [
              "id                       0\n",
              "week                     0\n",
              "center_id                0\n",
              "meal_id                  0\n",
              "checkout_price           0\n",
              "base_price               0\n",
              "emailer_for_promotion    0\n",
              "homepage_featured        0\n",
              "city_code                0\n",
              "region_code              0\n",
              "center_type              0\n",
              "op_area                  0\n",
              "category                 0\n",
              "cuisine                  0\n",
              "dtype: int64"
            ]
          },
          "metadata": {
            "tags": []
          },
          "execution_count": 36
        }
      ]
    },
    {
      "cell_type": "markdown",
      "metadata": {
        "id": "rYr2SWtJbe-Z",
        "colab_type": "text"
      },
      "source": [
        "**The datasets have no missing values.**"
      ]
    },
    {
      "cell_type": "markdown",
      "metadata": {
        "id": "XRVQAx48c3JH",
        "colab_type": "text"
      },
      "source": [
        "## **Data Visualizations and Feature Engineering**"
      ]
    },
    {
      "cell_type": "code",
      "metadata": {
        "id": "_bBNIjsCcca3",
        "colab_type": "code",
        "colab": {
          "base_uri": "https://localhost:8080/",
          "height": 397
        },
        "outputId": "450c715b-9c7e-4e2a-d0bb-a8d1292bcad5"
      },
      "source": [
        "import numpy as np\n",
        "import matplotlib.pyplot as plt\n",
        "plt.bar(train['cuisine'].value_counts().index, train['cuisine'].value_counts(), width=0.5, bottom=None, align='center', data=train, color='r')\n",
        "plt.title('Meal Cuisine Distribution')\n",
        "#plt.xticks(rotation='vertical')\n",
        "plt.xlabel('cuisine')\n",
        "plt.ylabel('Frequency')\n",
        "print('Meal Cuisine Distribution:\\n',train['cuisine'].value_counts())"
      ],
      "execution_count": 42,
      "outputs": [
        {
          "output_type": "stream",
          "text": [
            "Meal Cuisine Distribution:\n",
            " Italian        122925\n",
            "Thai           118216\n",
            "Indian         112612\n",
            "Continental    102795\n",
            "Name: cuisine, dtype: int64\n"
          ],
          "name": "stdout"
        },
        {
          "output_type": "display_data",
          "data": {
            "image/png": "[encoded data removed]",
            "text/plain": [
              "<Figure size 432x288 with 1 Axes>"
            ]
          },
          "metadata": {
            "tags": []
          }
        }
      ]
    },
    {
      "cell_type": "code",
      "metadata": {
        "id": "b2a90IsxbXss",
        "colab_type": "code",
        "colab": {
          "base_uri": "https://localhost:8080/",
          "height": 382
        },
        "outputId": "3496b5ab-8447-4768-bc54-407b258a0861"
      },
      "source": [
        "import numpy as np\n",
        "import matplotlib.pyplot as plt\n",
        "plt.bar(train['center_type'].value_counts().index, train['center_type'].value_counts(), width=0.5, bottom=None, align='center', data=train, color='g')\n",
        "plt.title('Center Type Distribution')\n",
        "#plt.xticks(rotation='vertical')\n",
        "plt.xlabel('center_type')\n",
        "plt.ylabel('Frequency')\n",
        "print('Center Type Distribution:\\n',train['center_type'].value_counts())"
      ],
      "execution_count": 44,
      "outputs": [
        {
          "output_type": "stream",
          "text": [
            "Center Type Distribution:\n",
            " TYPE_A    262881\n",
            "TYPE_C     99593\n",
            "TYPE_B     94074\n",
            "Name: center_type, dtype: int64\n"
          ],
          "name": "stdout"
        },
        {
          "output_type": "display_data",
          "data": {
            "image/png": "[encoded data removed]",
            "text/plain": [
              "<Figure size 432x288 with 1 Axes>"
            ]
          },
          "metadata": {
            "tags": []
          }
        }
      ]
    },
    {
      "cell_type": "code",
      "metadata": {
        "id": "iGydYXWjhPP_",
        "colab_type": "code",
        "colab": {
          "base_uri": "https://localhost:8080/",
          "height": 363
        },
        "outputId": "afe4ae29-deac-4416-96ea-42a44333084b"
      },
      "source": [
        "import numpy as np\n",
        "import matplotlib.pyplot as plt\n",
        "plt.bar(train['emailer_for_promotion'].value_counts().index, train['emailer_for_promotion'].value_counts(), width=0.5, bottom=None, align='center', data=train, color='y')\n",
        "plt.title('Center Type Distribution')\n",
        "plt.xticks(np.arange(2), ('No', 'Yes'))\n",
        "plt.xlabel('Emailer for Promotion')\n",
        "plt.ylabel('Frequency')\n",
        "print('Emailer for Promotion Distribution:\\n',train['emailer_for_promotion'].value_counts())"
      ],
      "execution_count": 56,
      "outputs": [
        {
          "output_type": "stream",
          "text": [
            "Emailer for Promotion Distribution:\n",
            " 0    419498\n",
            "1     37050\n",
            "Name: emailer_for_promotion, dtype: int64\n"
          ],
          "name": "stdout"
        },
        {
          "output_type": "display_data",
          "data": {
            "image/png": "[encoded data removed]",
            "text/plain": [
              "<Figure size 432x288 with 1 Axes>"
            ]
          },
          "metadata": {
            "tags": []
          }
        }
      ]
    },
    {
      "cell_type": "code",
      "metadata": {
        "id": "Bc6bIjBqh8FZ",
        "colab_type": "code",
        "colab": {
          "base_uri": "https://localhost:8080/",
          "height": 364
        },
        "outputId": "980f1334-a664-4f40-ff31-0559ecb064cd"
      },
      "source": [
        "import numpy as np\n",
        "import matplotlib.pyplot as plt\n",
        "plt.bar(train['homepage_featured'].value_counts().index, train['homepage_featured'].value_counts(), width=0.5, bottom=None, align='center', data=train, color='c')\n",
        "plt.title('Homepage Featured Distribution')\n",
        "plt.xticks(np.arange(2), ('No', 'Yes'))\n",
        "plt.xlabel('homepage_featured')\n",
        "plt.ylabel('Frequency')\n",
        "print('Homepage Featured Distribution:\\n',train['homepage_featured'].value_counts())"
      ],
      "execution_count": 59,
      "outputs": [
        {
          "output_type": "stream",
          "text": [
            "Homepage Featured Distribution:\n",
            " 0    406693\n",
            "1     49855\n",
            "Name: homepage_featured, dtype: int64\n"
          ],
          "name": "stdout"
        },
        {
          "output_type": "display_data",
          "data": {
            "image/png": "[encoded data removed]",
            "text/plain": [
              "<Figure size 432x288 with 1 Axes>"
            ]
          },
          "metadata": {
            "tags": []
          }
        }
      ]
    },
    {
      "cell_type": "code",
      "metadata": {
        "id": "7I4kUh6Kbsqo",
        "colab_type": "code",
        "colab": {
          "base_uri": "https://localhost:8080/",
          "height": 369
        },
        "outputId": "1dcf933d-be93-4207-c24d-5f6750001ea9"
      },
      "source": [
        "import numpy as np\n",
        "import matplotlib.pyplot as plt\n",
        "plt.bar(train['category'].value_counts().index, train['category'].value_counts(), width=0.5, bottom=None, align='center', data=train)\n",
        "plt.title('Meal Category Distribution')\n",
        "plt.xticks(rotation='vertical')\n",
        "plt.xlabel('category')\n",
        "plt.ylabel('Number of Items')\n",
        "#print('Meal Category Distribution:\\n',train['category'].value_counts())"
      ],
      "execution_count": 75,
      "outputs": [
        {
          "output_type": "execute_result",
          "data": {
            "text/plain": [
              "Text(0, 0.5, 'Number of Items')"
            ]
          },
          "metadata": {
            "tags": []
          },
          "execution_count": 75
        },
        {
          "output_type": "display_data",
          "data": {
            "image/png": "[encoded data removed]",
            "text/plain": [
              "<Figure size 432x288 with 1 Axes>"
            ]
          },
          "metadata": {
            "tags": []
          }
        }
      ]
    },
    {
      "cell_type": "code",
      "metadata": {
        "id": "QmHfztkBg3p-",
        "colab_type": "code",
        "colab": {
          "base_uri": "https://localhost:8080/",
          "height": 369
        },
        "outputId": "de90ae0b-bdc5-4e7d-b95f-9ff475ff6113"
      },
      "source": [
        "import numpy as np\n",
        "import matplotlib.pyplot as plt\n",
        "plt.bar(train.groupby( [ \"category\"] )['num_orders'].sum().index,train.groupby( [ \"category\"] )['num_orders'].sum(), width=0.5, bottom=None, align='center', data=train, color='m')\n",
        "plt.title('Number of Orders Per Category Distribution')\n",
        "plt.xticks(rotation='vertical')\n",
        "plt.xlabel('Category')\n",
        "plt.ylabel('Number of orders')\n",
        "#print('Homepage Featured Distribution:\\n',train['homepage_featured'].value_counts())"
      ],
      "execution_count": 74,
      "outputs": [
        {
          "output_type": "execute_result",
          "data": {
            "text/plain": [
              "Text(0, 0.5, 'Number of orders')"
            ]
          },
          "metadata": {
            "tags": []
          },
          "execution_count": 74
        },
        {
          "output_type": "display_data",
          "data": {
            "image/png": "[encoded data removed]",
            "text/plain": [
              "<Figure size 432x288 with 1 Axes>"
            ]
          },
          "metadata": {
            "tags": []
          }
        }
      ]
    },
    {
      "cell_type": "markdown",
      "metadata": {
        "id": "004K3EPMl7j4",
        "colab_type": "text"
      },
      "source": [
        "**We can see that Beverages outnumbers all other categories both in number of items and number of orders. So, we can combine all the other items under a new category \"Foods\".**"
      ]
    },
    {
      "cell_type": "code",
      "metadata": {
        "id": "ch1r-0S4di9c",
        "colab_type": "code",
        "colab": {}
      },
      "source": [
        "def food(col):\n",
        "  if col=='Beverages':\n",
        "    return col\n",
        "  else:\n",
        "    return 'Foods'"
      ],
      "execution_count": 0,
      "outputs": []
    },
    {
      "cell_type": "code",
      "metadata": {
        "id": "_NW5kC0SdrLI",
        "colab_type": "code",
        "colab": {}
      },
      "source": [
        "train['Category']=train['category'].apply(food)\n",
        "test['Category']=test['category'].apply(food)"
      ],
      "execution_count": 0,
      "outputs": []
    },
    {
      "cell_type": "code",
      "metadata": {
        "id": "IEdx5V4RnbE4",
        "colab_type": "code",
        "colab": {
          "base_uri": "https://localhost:8080/",
          "height": 312
        },
        "outputId": "c97fc5a9-1321-4ebe-d67a-f9c8d570dbf8"
      },
      "source": [
        "import numpy as np\n",
        "import matplotlib.pyplot as plt\n",
        "plt.bar(train.groupby( [ \"Category\"] )['num_orders'].sum().index,train.groupby( [ \"Category\"] )['num_orders'].sum(), width=0.5, bottom=None, align='center', data=train, color='k')\n",
        "plt.title('Number of Orders Per Category Distribution')\n",
        "#plt.xticks(rotation='vertical')\n",
        "plt.xlabel('Category')\n",
        "plt.ylabel('Number of orders')"
      ],
      "execution_count": 88,
      "outputs": [
        {
          "output_type": "execute_result",
          "data": {
            "text/plain": [
              "Text(0, 0.5, 'Number of orders')"
            ]
          },
          "metadata": {
            "tags": []
          },
          "execution_count": 88
        },
        {
          "output_type": "display_data",
          "data": {
            "image/png": "[encoded data removed]",
            "text/plain": [
              "<Figure size 432x288 with 1 Axes>"
            ]
          },
          "metadata": {
            "tags": []
          }
        }
      ]
    }
  ]
}